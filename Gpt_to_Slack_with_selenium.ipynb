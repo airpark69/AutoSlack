{
 "cells": [
  {
   "cell_type": "markdown",
   "id": "f63e4e11-b471-46ab-9784-c88bd9a6b7f6",
   "metadata": {},
   "source": [
    "터미널에서 해당 명령어 실행해서 크롬 원격 디버그창을 띄워놓은 상태에서 코드 실행\n",
    "\n",
    "[windows]\n",
    "\n",
    "start chrome.exe --remote-debugging-port=9222 --user-data-dir=\"C:\\temp\"\n",
    "\n",
    "[MacOS]\n",
    "\n",
    "sudo /Applications/Google\\ Chrome.app/Contents/MacOS/Google\\ Chrome --remote-debugging-port=9222"
   ]
  },
  {
   "cell_type": "code",
   "execution_count": 18,
   "id": "7ce315b2-6315-421a-a85b-3e2edf7318bc",
   "metadata": {},
   "outputs": [
    {
     "name": "stdout",
     "output_type": "stream",
     "text": [
      "Requirement already satisfied: selenium in /Users/data.ly/opt/anaconda3/envs/AutoSlack/lib/python3.8/site-packages (4.9.0)\n",
      "Requirement already satisfied: certifi>=2021.10.8 in /Users/data.ly/opt/anaconda3/envs/AutoSlack/lib/python3.8/site-packages (from selenium) (2022.12.7)\n",
      "Requirement already satisfied: trio-websocket~=0.9 in /Users/data.ly/opt/anaconda3/envs/AutoSlack/lib/python3.8/site-packages (from selenium) (0.10.2)\n",
      "Requirement already satisfied: trio~=0.17 in /Users/data.ly/opt/anaconda3/envs/AutoSlack/lib/python3.8/site-packages (from selenium) (0.22.0)\n",
      "Requirement already satisfied: urllib3[socks]~=1.26 in /Users/data.ly/opt/anaconda3/envs/AutoSlack/lib/python3.8/site-packages (from selenium) (1.26.15)\n",
      "Requirement already satisfied: sniffio in /Users/data.ly/opt/anaconda3/envs/AutoSlack/lib/python3.8/site-packages (from trio~=0.17->selenium) (1.3.0)\n",
      "Requirement already satisfied: exceptiongroup>=1.0.0rc9 in /Users/data.ly/opt/anaconda3/envs/AutoSlack/lib/python3.8/site-packages (from trio~=0.17->selenium) (1.1.1)\n",
      "Requirement already satisfied: async-generator>=1.9 in /Users/data.ly/opt/anaconda3/envs/AutoSlack/lib/python3.8/site-packages (from trio~=0.17->selenium) (1.10)\n",
      "Requirement already satisfied: sortedcontainers in /Users/data.ly/opt/anaconda3/envs/AutoSlack/lib/python3.8/site-packages (from trio~=0.17->selenium) (2.4.0)\n",
      "Requirement already satisfied: idna in /Users/data.ly/opt/anaconda3/envs/AutoSlack/lib/python3.8/site-packages (from trio~=0.17->selenium) (3.4)\n",
      "Requirement already satisfied: outcome in /Users/data.ly/opt/anaconda3/envs/AutoSlack/lib/python3.8/site-packages (from trio~=0.17->selenium) (1.2.0)\n",
      "Requirement already satisfied: attrs>=19.2.0 in /Users/data.ly/opt/anaconda3/envs/AutoSlack/lib/python3.8/site-packages (from trio~=0.17->selenium) (23.1.0)\n",
      "Requirement already satisfied: wsproto>=0.14 in /Users/data.ly/opt/anaconda3/envs/AutoSlack/lib/python3.8/site-packages (from trio-websocket~=0.9->selenium) (1.2.0)\n",
      "Requirement already satisfied: PySocks!=1.5.7,<2.0,>=1.5.6 in /Users/data.ly/opt/anaconda3/envs/AutoSlack/lib/python3.8/site-packages (from urllib3[socks]~=1.26->selenium) (1.7.1)\n",
      "Requirement already satisfied: h11<1,>=0.9.0 in /Users/data.ly/opt/anaconda3/envs/AutoSlack/lib/python3.8/site-packages (from wsproto>=0.14->trio-websocket~=0.9->selenium) (0.14.0)\n",
      "Note: you may need to restart the kernel to use updated packages.\n",
      "Requirement already satisfied: webdriver-manager in /Users/data.ly/opt/anaconda3/envs/AutoSlack/lib/python3.8/site-packages (3.8.6)\n",
      "Requirement already satisfied: python-dotenv in /Users/data.ly/opt/anaconda3/envs/AutoSlack/lib/python3.8/site-packages (from webdriver-manager) (1.0.0)\n",
      "Requirement already satisfied: tqdm in /Users/data.ly/opt/anaconda3/envs/AutoSlack/lib/python3.8/site-packages (from webdriver-manager) (4.65.0)\n",
      "Requirement already satisfied: requests in /Users/data.ly/opt/anaconda3/envs/AutoSlack/lib/python3.8/site-packages (from webdriver-manager) (2.28.2)\n",
      "Requirement already satisfied: packaging in /Users/data.ly/opt/anaconda3/envs/AutoSlack/lib/python3.8/site-packages (from webdriver-manager) (23.1)\n",
      "Requirement already satisfied: charset-normalizer<4,>=2 in /Users/data.ly/opt/anaconda3/envs/AutoSlack/lib/python3.8/site-packages (from requests->webdriver-manager) (3.1.0)\n",
      "Requirement already satisfied: urllib3<1.27,>=1.21.1 in /Users/data.ly/opt/anaconda3/envs/AutoSlack/lib/python3.8/site-packages (from requests->webdriver-manager) (1.26.15)\n",
      "Requirement already satisfied: idna<4,>=2.5 in /Users/data.ly/opt/anaconda3/envs/AutoSlack/lib/python3.8/site-packages (from requests->webdriver-manager) (3.4)\n",
      "Requirement already satisfied: certifi>=2017.4.17 in /Users/data.ly/opt/anaconda3/envs/AutoSlack/lib/python3.8/site-packages (from requests->webdriver-manager) (2022.12.7)\n",
      "Note: you may need to restart the kernel to use updated packages.\n",
      "Collecting selenium-stealth\n",
      "  Downloading selenium_stealth-1.0.6-py3-none-any.whl (32 kB)\n",
      "Requirement already satisfied: selenium in /Users/data.ly/opt/anaconda3/envs/AutoSlack/lib/python3.8/site-packages (from selenium-stealth) (4.9.0)\n",
      "Requirement already satisfied: urllib3[socks]~=1.26 in /Users/data.ly/opt/anaconda3/envs/AutoSlack/lib/python3.8/site-packages (from selenium->selenium-stealth) (1.26.15)\n",
      "Requirement already satisfied: trio-websocket~=0.9 in /Users/data.ly/opt/anaconda3/envs/AutoSlack/lib/python3.8/site-packages (from selenium->selenium-stealth) (0.10.2)\n",
      "Requirement already satisfied: trio~=0.17 in /Users/data.ly/opt/anaconda3/envs/AutoSlack/lib/python3.8/site-packages (from selenium->selenium-stealth) (0.22.0)\n",
      "Requirement already satisfied: certifi>=2021.10.8 in /Users/data.ly/opt/anaconda3/envs/AutoSlack/lib/python3.8/site-packages (from selenium->selenium-stealth) (2022.12.7)\n",
      "Requirement already satisfied: outcome in /Users/data.ly/opt/anaconda3/envs/AutoSlack/lib/python3.8/site-packages (from trio~=0.17->selenium->selenium-stealth) (1.2.0)\n",
      "Requirement already satisfied: exceptiongroup>=1.0.0rc9 in /Users/data.ly/opt/anaconda3/envs/AutoSlack/lib/python3.8/site-packages (from trio~=0.17->selenium->selenium-stealth) (1.1.1)\n",
      "Requirement already satisfied: idna in /Users/data.ly/opt/anaconda3/envs/AutoSlack/lib/python3.8/site-packages (from trio~=0.17->selenium->selenium-stealth) (3.4)\n",
      "Requirement already satisfied: sniffio in /Users/data.ly/opt/anaconda3/envs/AutoSlack/lib/python3.8/site-packages (from trio~=0.17->selenium->selenium-stealth) (1.3.0)\n",
      "Requirement already satisfied: sortedcontainers in /Users/data.ly/opt/anaconda3/envs/AutoSlack/lib/python3.8/site-packages (from trio~=0.17->selenium->selenium-stealth) (2.4.0)\n",
      "Requirement already satisfied: async-generator>=1.9 in /Users/data.ly/opt/anaconda3/envs/AutoSlack/lib/python3.8/site-packages (from trio~=0.17->selenium->selenium-stealth) (1.10)\n",
      "Requirement already satisfied: attrs>=19.2.0 in /Users/data.ly/opt/anaconda3/envs/AutoSlack/lib/python3.8/site-packages (from trio~=0.17->selenium->selenium-stealth) (23.1.0)\n",
      "Requirement already satisfied: wsproto>=0.14 in /Users/data.ly/opt/anaconda3/envs/AutoSlack/lib/python3.8/site-packages (from trio-websocket~=0.9->selenium->selenium-stealth) (1.2.0)\n",
      "Requirement already satisfied: PySocks!=1.5.7,<2.0,>=1.5.6 in /Users/data.ly/opt/anaconda3/envs/AutoSlack/lib/python3.8/site-packages (from urllib3[socks]~=1.26->selenium->selenium-stealth) (1.7.1)\n",
      "Requirement already satisfied: h11<1,>=0.9.0 in /Users/data.ly/opt/anaconda3/envs/AutoSlack/lib/python3.8/site-packages (from wsproto>=0.14->trio-websocket~=0.9->selenium->selenium-stealth) (0.14.0)\n",
      "Installing collected packages: selenium-stealth\n",
      "Successfully installed selenium-stealth-1.0.6\n",
      "Note: you may need to restart the kernel to use updated packages.\n"
     ]
    }
   ],
   "source": [
    "%pip install selenium\n",
    "%pip install webdriver-manager"
   ]
  },
  {
   "cell_type": "code",
   "execution_count": 33,
   "id": "048c1f4c-7bde-446d-984e-a7211ee28842",
   "metadata": {
    "tags": []
   },
   "outputs": [],
   "source": [
    "from selenium import webdriver\n",
    "from selenium.webdriver.chrome.service import Service\n",
    "from webdriver_manager.chrome import ChromeDriverManager\n",
    "from selenium.webdriver.common.by import By\n",
    "from selenium.webdriver import Keys, ActionChains\n",
    "from selenium.webdriver.chrome.options import Options\n",
    "import time"
   ]
  },
  {
   "cell_type": "markdown",
   "id": "edf7004a-1d6b-47ca-9c6f-394ecf322ca3",
   "metadata": {},
   "source": [
    "이성희님\n",
    "\n",
    "1. 기능을 함수로 쪼개서 함수별로 주석이 있으면 좋겠습니다\n",
    "\n",
    "2. while 문 진입 후 finde_element 가 없을경우 exception이 던져지기 때문에 try-catch가 있으면 좋을것 같아요"
   ]
  },
  {
   "cell_type": "code",
   "execution_count": null,
   "id": "a3e22d30-12d1-427c-ab89-88d160a4d683",
   "metadata": {
    "tags": []
   },
   "outputs": [],
   "source": [
    "options = Options()\n",
    "options.add_experimental_option(\"debuggerAddress\", \"127.0.0.1:9222\")\n",
    "\n",
    "driver = webdriver.Chrome(service=Service(ChromeDriverManager().install()))\n",
    "driver2 = webdriver.Chrome(options=options)\n",
    "\n",
    "driver.get(\"https://slack.com/signin#/signin\")\n",
    "\n",
    "driver2.get(\"https://chat.openai.com/\")\n",
    "driver2.implicitly_wait(10)\n",
    "\n",
    "\n",
    "id_input = driver.find_element(By.ID, \"signup_email\")\n",
    "actions = ActionChains(driver)\n",
    "actions.send_keys_to_element(id_input, \"rudah69@gmail.com\").perform()\n",
    "actions.send_keys(Keys.RETURN).perform()\n",
    "\n",
    "input(\"Press Enter to continue...\") \n",
    "## Chat GPT의 경우에는 구글 로그인같은 내역을 남겨놔야 접속이 되므로 완전 자동화는 힘들다.\n",
    "## 여기서 로그인 -> 채널 접속까지 한 뒤에 엔터키를 누른다. \n",
    "slack_recent_message = \"\"\n",
    "slack_to_gpt_input = \"\"\n",
    "recent_answer = \"\"\n",
    "\n",
    "while True:\n",
    "    chats = driver.find_elements(By.CLASS_NAME, \"p-rich_text_section\")\n",
    "\n",
    "    if chats[-1].text == slack_recent_message:\n",
    "        # 최근 메세지가 이전에 받았던 메세지와 동일할 경우 스킵\n",
    "        print(\"슬랙 메세지가 업데이트 되지 않았습니다.\")\n",
    "        time.sleep(5)\n",
    "        continue\n",
    "    elif chats[-1].text in recent_answer:\n",
    "        # 자문 자답 방지용, 대화 내용이 최근 답변과 유사할 경우 스킵\n",
    "        print(\"슬랙 메세지가 업데이트 되지 않았습니다.\")\n",
    "        time.sleep(5)\n",
    "        continue\n",
    "        \n",
    "    slack_recent_message = chats[-1].text\n",
    "\n",
    "    gpt_input = driver2.find_element(By.XPATH, '//*[@id=\"__next\"]/div[2]/div/main/div[2]/form/div/div[1]/textarea')\n",
    "    gpt_button = driver2.find_element(By.XPATH, '//*[@id=\"__next\"]/div[2]/div/main/div[2]/form/div/div[1]/button')\n",
    "\n",
    "    actions_gpt = ActionChains(driver2)\n",
    "    actions_gpt.send_keys_to_element(gpt_input, slack_recent_message).perform()\n",
    "    actions_gpt.click(gpt_button).perform()\n",
    "    \n",
    "    driver2.implicitly_wait(3)\n",
    "    main_divs = driver2.find_elements(By.XPATH, '//*[@id=\"__next\"]/div[2]/div/main/div[1]/div/div/div/div')\n",
    "    answer_num = len(main_divs) - 1\n",
    "    \n",
    "    delay_check = 0 #Chat GPT가 대답하는 과정이 길기 때문에 대답 하는 동안에는 체크하다가 대답이 끝나면 전송\n",
    "\n",
    "    recent_answer = driver2.find_element(By.XPATH, '//*[@id=\"__next\"]/div[2]/div/main/div[1]/div/div/div/div[%s]/div/div[2]/div[1]/div/div' % answer_num).text\n",
    "    while delay_check <= 2:\n",
    "        time.sleep(0.5)\n",
    "        tmp_answer = driver2.find_element(By.XPATH, '//*[@id=\"__next\"]/div[2]/div/main/div[1]/div/div/div/div[%s]/div/div[2]/div[1]/div/div' % answer_num).text\n",
    "        if recent_answer == tmp_answer:\n",
    "            delay_check += 1\n",
    "        else:\n",
    "            delay_check = 0\n",
    "            recent_answer = tmp_answer\n",
    "    \n",
    "    slack_input = driver.find_element(By.XPATH, '/html/body/div[2]/div/div[1]/div[5]/div[2]/div/div[4]/div/div[2]/div/div/div/div[2]/div/div/div/div[2]/div/div[1]/p')\n",
    "    actions.send_keys_to_element(slack_input, recent_answer).perform()\n",
    "    actions.send_keys(Keys.RETURN).perform()"
   ]
  },
  {
   "cell_type": "code",
   "execution_count": null,
   "id": "af4277aa-339f-447e-9eac-c0cee22a382e",
   "metadata": {},
   "outputs": [],
   "source": []
  }
 ],
 "metadata": {
  "kernelspec": {
   "display_name": "AutoSlack",
   "language": "python",
   "name": "autoslack"
  },
  "language_info": {
   "codemirror_mode": {
    "name": "ipython",
    "version": 3
   },
   "file_extension": ".py",
   "mimetype": "text/x-python",
   "name": "python",
   "nbconvert_exporter": "python",
   "pygments_lexer": "ipython3",
   "version": "3.8.16"
  }
 },
 "nbformat": 4,
 "nbformat_minor": 5
}
